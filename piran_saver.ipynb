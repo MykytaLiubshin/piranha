{
 "cells": [
  {
   "cell_type": "code",
   "execution_count": 5,
   "metadata": {},
   "outputs": [],
   "source": [
    "import pandas as pd\n",
    "import os\n",
    "import shutil"
   ]
  },
  {
   "cell_type": "code",
   "execution_count": 6,
   "metadata": {},
   "outputs": [],
   "source": [
    "excels_list = os.listdir('./scripts/excels/')\n",
    "excels_list = [excel_name for excel_name in excels_list if '~' not in excel_name]"
   ]
  },
  {
   "cell_type": "code",
   "execution_count": 7,
   "metadata": {},
   "outputs": [
    {
     "data": {
      "text/plain": [
       "['1982120570_relatives.xlsx',\n",
       " '2261118270_relatives.xlsx',\n",
       " '2265127860_relatives.xlsx',\n",
       " '2271301081_relatives.xlsx',\n",
       " '2284513740_relatives.xlsx',\n",
       " '2292414716_relatives.xlsx',\n",
       " '2299313949_relatives.xlsx',\n",
       " '2306900395_relatives.xlsx',\n",
       " '2316715079_relatives.xlsx',\n",
       " '2335101677_relatives.xlsx']"
      ]
     },
     "execution_count": 7,
     "metadata": {},
     "output_type": "execute_result"
    }
   ],
   "source": [
    "excels_list[:10]"
   ]
  },
  {
   "cell_type": "code",
   "execution_count": 8,
   "metadata": {},
   "outputs": [],
   "source": [
    "if not os.path.isdir('./piran'):\n",
    "    os.mkdir('./piran')\n",
    "    \n",
    "lazy_list = os.listdir('./lazy_piran')\n",
    "\n",
    "for excel_file in excels_list:\n",
    "    df = pd.read_excel('./scripts/excels/' + excel_file)\n",
    "    parent_person_inn = str(df['Main'][0])\n",
    "    relative_inns = [str(relative_inn) for relative_inn in df['Relative'].drop_duplicates().to_list() if str(relative_inn) != parent_person_inn]\n",
    "    \n",
    "    save_path = './piran/' + parent_person_inn\n",
    "    if not os.path.isdir(save_path):\n",
    "        os.mkdir(save_path)\n",
    "\n",
    "    for zip_file in lazy_list:\n",
    "        if parent_person_inn in zip_file:\n",
    "            shutil.copyfile('./lazy_piran/' + zip_file, save_path + '/' + zip_file)\n",
    "        for relative_inn in relative_inns:\n",
    "            if relative_inn in zip_file:\n",
    "                shutil.copyfile('./lazy_piran/' + zip_file, save_path + '/' + zip_file)\n"
   ]
  },
  {
   "cell_type": "code",
   "execution_count": 9,
   "metadata": {},
   "outputs": [],
   "source": [
    "ndf = pd.DataFrame(columns=['inn'])\n",
    "for folder in os.listdir('./piran'):\n",
    "    ndf = ndf.append(pd.DataFrame(data={'inn': folder}, index=[0]))\n",
    "\n",
    "ndf.to_excel('piran.xlsx')\n",
    "    "
   ]
  },
  {
   "cell_type": "code",
   "execution_count": null,
   "metadata": {},
   "outputs": [],
   "source": []
  },
  {
   "cell_type": "code",
   "execution_count": null,
   "metadata": {},
   "outputs": [],
   "source": []
  }
 ],
 "metadata": {
  "kernelspec": {
   "display_name": "Python 3 (ipykernel)",
   "language": "python",
   "name": "python3"
  },
  "language_info": {
   "codemirror_mode": {
    "name": "ipython",
    "version": 3
   },
   "file_extension": ".py",
   "mimetype": "text/x-python",
   "name": "python",
   "nbconvert_exporter": "python",
   "pygments_lexer": "ipython3",
   "version": "3.9.2"
  }
 },
 "nbformat": 4,
 "nbformat_minor": 4
}
